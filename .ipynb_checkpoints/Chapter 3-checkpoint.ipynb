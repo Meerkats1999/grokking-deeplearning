{
 "cells": [
  {
   "cell_type": "markdown",
   "metadata": {},
   "source": [
    " A Simple Neural Network Making a Prediction"
   ]
  },
  {
   "cell_type": "code",
   "execution_count": 1,
   "metadata": {},
   "outputs": [],
   "source": [
    "weight = 0.1\n",
    "def neural_network(input,weight):\n",
    "    prediction = input*weight\n",
    "    return prediction"
   ]
  },
  {
   "cell_type": "code",
   "execution_count": 2,
   "metadata": {},
   "outputs": [
    {
     "data": {
      "text/plain": [
       "0.8500000000000001"
      ]
     },
     "execution_count": 2,
     "metadata": {},
     "output_type": "execute_result"
    }
   ],
   "source": [
    "number = [8.5,9.5,10,9]\n",
    "input = number[0]\n",
    "pred = neural_network(input,weight)\n",
    "pred"
   ]
  },
  {
   "cell_type": "markdown",
   "metadata": {},
   "source": [
    "Making a Prediction with Multiple Inputs"
   ]
  },
  {
   "cell_type": "code",
   "execution_count": 3,
   "metadata": {},
   "outputs": [],
   "source": [
    "weights = [0.1,0.2,0]\n",
    "\n",
    "def w_sum(a,b):\n",
    "    assert(len(a)==len(b))\n",
    "    output=0\n",
    "    for i in range(len(a)):\n",
    "        output+=(a[i]*b[i])\n",
    "    return output\n",
    "\n",
    "def neural_network(input,weights):\n",
    "    pred=w_sum(input,weights)\n",
    "    return pred"
   ]
  },
  {
   "cell_type": "code",
   "execution_count": 4,
   "metadata": {},
   "outputs": [
    {
     "data": {
      "text/plain": [
       "0.9800000000000001"
      ]
     },
     "execution_count": 4,
     "metadata": {},
     "output_type": "execute_result"
    }
   ],
   "source": [
    "toes=[8.5,9.5,9.9,9.0] #current number of toes\n",
    "wlrec=[0.65, 0.8, 0.8, 0.9] #current games won\n",
    "nfans=[1.2, 1.3, 0.5, 1.0] #fan count\n",
    "\n",
    "input = [toes[0],wlrec[0],nfans[0]]\n",
    "pred = neural_network(input,weights)\n",
    "pred"
   ]
  },
  {
   "cell_type": "markdown",
   "metadata": {},
   "source": [
    "Challenge: Vector Math"
   ]
  },
  {
   "cell_type": "code",
   "execution_count": 5,
   "metadata": {},
   "outputs": [],
   "source": [
    "def elementwise_multiplication(vec_a,vec_b):\n",
    "    result = []\n",
    "    for i in range(0,len(vec_a)):\n",
    "        result.append(vec_a[i]*vec_b[i])\n",
    "    return result\n",
    "            \n",
    "def elementwise_addition(vec_a,vec_b):\n",
    "    result = []\n",
    "    for i in range(0,len(vec_a)):\n",
    "        result.append(vec_a[i]+vec_b[i])\n",
    "    return result\n",
    "\n",
    "def vector_sum(vec_a):\n",
    "    result = 0\n",
    "    for i in range(0,len(vec_a)):\n",
    "        result+=vec_a[i]\n",
    "    return result\n",
    "\n",
    "def vector_average(vec_a):\n",
    "    addition = 0\n",
    "    count = 0\n",
    "    for i in range(0,len(vec_a)):\n",
    "        addition+=vec_a[i]\n",
    "        count+=1\n",
    "    avg=addition/count\n",
    "    return avg"
   ]
  },
  {
   "cell_type": "code",
   "execution_count": 6,
   "metadata": {},
   "outputs": [
    {
     "name": "stdout",
     "output_type": "stream",
     "text": [
      "[2.5, 6.5, 12.0]\n",
      "[5.5, 7.5, 9.5]\n",
      "3.0\n",
      "1.0\n"
     ]
    }
   ],
   "source": [
    "vec_a=[0.5,1.0,1.5]\n",
    "vec_b=[5.0,6.5,8.0]\n",
    "\n",
    "print(elementwise_multiplication(vec_a,vec_b))\n",
    "print(elementwise_addition(vec_a,vec_b))\n",
    "print(vector_sum(vec_a))\n",
    "print(vector_average(vec_a))"
   ]
  },
  {
   "cell_type": "markdown",
   "metadata": {},
   "source": [
    "Making a Prediction with Multiple Inputs"
   ]
  },
  {
   "cell_type": "code",
   "execution_count": null,
   "metadata": {},
   "outputs": [],
   "source": []
  }
 ],
 "metadata": {
  "kernelspec": {
   "display_name": "Python 3",
   "language": "python",
   "name": "python3"
  },
  "language_info": {
   "codemirror_mode": {
    "name": "ipython",
    "version": 3
   },
   "file_extension": ".py",
   "mimetype": "text/x-python",
   "name": "python",
   "nbconvert_exporter": "python",
   "pygments_lexer": "ipython3",
   "version": "3.7.3"
  }
 },
 "nbformat": 4,
 "nbformat_minor": 2
}
